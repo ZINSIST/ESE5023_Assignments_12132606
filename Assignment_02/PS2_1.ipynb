{
 "cells": [
  {
   "cell_type": "code",
   "execution_count": 7,
   "metadata": {},
   "outputs": [],
   "source": [
    "import pandas as pd\n",
    "import numpy as np\n",
    "from matplotlib import pyplot as plt\n",
    "\n"
   ]
  },
  {
   "cell_type": "code",
   "execution_count": 33,
   "metadata": {},
   "outputs": [
    {
     "name": "stdout",
     "output_type": "stream",
     "text": [
      "7722877.0\n"
     ]
    }
   ],
   "source": [
    "D_num=Sig_Eqs[\"Deaths\"].sum()\n",
    "print(D_num)"
   ]
  },
  {
   "cell_type": "code",
   "execution_count": null,
   "metadata": {},
   "outputs": [],
   "source": [
    "Sig_Eqs['Country'].unique()"
   ]
  },
  {
   "cell_type": "code",
   "execution_count": 30,
   "metadata": {},
   "outputs": [
    {
     "data": {
      "text/plain": [
       "Country\n",
       "CHINA         2074900.0\n",
       "TURKEY        1074569.0\n",
       "IRAN          1011437.0\n",
       "SYRIA          439224.0\n",
       "ITALY          434863.0\n",
       "HAITI          323472.0\n",
       "AZERBAIJAN     317219.0\n",
       "JAPAN          278138.0\n",
       "ARMENIA        191890.0\n",
       "PAKISTAN       148783.0\n",
       "Name: Deaths, dtype: float64"
      ]
     },
     "execution_count": 30,
     "metadata": {},
     "output_type": "execute_result"
    }
   ],
   "source": [
    "Sig_Eqs.groupby('Country')['Deaths'].sum().sort_values(axis=0,ascending=False)[0:10]"
   ]
  },
  {
   "cell_type": "code",
   "execution_count": null,
   "metadata": {},
   "outputs": [],
   "source": [
    "M=Sig_Eqs[Sig_Eqs['Mag']>6.0]\n"
   ]
  },
  {
   "cell_type": "code",
   "execution_count": 88,
   "metadata": {},
   "outputs": [],
   "source": [
    "\n",
    "M_count=M.groupby('Year')['Mag'].count()"
   ]
  },
  {
   "cell_type": "code",
   "execution_count": 89,
   "metadata": {},
   "outputs": [
    {
     "data": {
      "text/plain": [
       "<AxesSubplot:xlabel='Year'>"
      ]
     },
     "execution_count": 89,
     "metadata": {},
     "output_type": "execute_result"
    },
    {
     "data": {
      "image/png": "[encoded data removed]",
      "text/plain": [
       "<Figure size 432x288 with 1 Axes>"
      ]
     },
     "metadata": {
      "needs_background": "light"
     },
     "output_type": "display_data"
    }
   ],
   "source": [
    "M_count.groupby(['Year']).mean().plot()"
   ]
  },
  {
   "cell_type": "code",
   "execution_count": 124,
   "metadata": {},
   "outputs": [],
   "source": [
    "def CountEq_LargestEq(Country_name):\n",
    "    Date_Country=Sig_Eqs[(Sig_Eqs['Country']== Country_name)]\n",
    "    Date_Country[\"Mag\"].count()\n",
    "    Max_num=Date_Country['Mag'].max()\n",
    "    Max_num_Date=Date_Country[Date_Country['Mag'].isin([Max_num])]\n",
    "    Max_num_Date['Year']\n"
   ]
  },
  {
   "cell_type": "code",
   "execution_count": null,
   "metadata": {},
   "outputs": [],
   "source": []
  },
  {
   "cell_type": "markdown",
   "metadata": {},
   "source": []
  }
 ],
 "metadata": {
  "interpreter": {
   "hash": "f02b81ffa47b6a1f96eafd62cbbb2bfeb0ab8eba1739b719ade3a006bded2f8a"
  },
  "kernelspec": {
   "display_name": "Python 3.9.7 64-bit",
   "name": "python3"
  },
  "language_info": {
   "codemirror_mode": {
    "name": "ipython",
    "version": 3
   },
   "file_extension": ".py",
   "mimetype": "text/x-python",
   "name": "python",
   "nbconvert_exporter": "python",
   "pygments_lexer": "ipython3",
   "version": "3.9.7"
  },
  "orig_nbformat": 4
 },
 "nbformat": 4,
 "nbformat_minor": 2
}
